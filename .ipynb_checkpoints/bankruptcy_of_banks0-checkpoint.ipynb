{
 "cells": [
  {
   "cell_type": "markdown",
   "metadata": {},
   "source": [
    "# Сбор и обработка данных"
   ]
  },
  {
   "cell_type": "markdown",
   "metadata": {},
   "source": [
    "### Приведение данных к панельному виду"
   ]
  },
  {
   "cell_type": "markdown",
   "metadata": {},
   "source": [
    "#### В этой работе рассмотрены данные по российским банкам с информационной базы СПАРК. Для построения модели, использовались месячные данные с 2013-2018 гг. Данные включают 470 действующих банков и 57 – в состоянии банкротства.Также, в базе есть 1010 недействующих банков, из которых было отобраны банки, которые ликвидировались по причине банкротства (81 банк)."
   ]
  },
  {
   "cell_type": "markdown",
   "metadata": {},
   "source": [
    "##### Спарк накладывает ограничения на размер скачеваемых файлов. Поэтому данные были скачены частями, а далее объединялись в один файл. "
   ]
  },
  {
   "cell_type": "code",
   "execution_count": 2,
   "metadata": {},
   "outputs": [],
   "source": [
    "import pandas as pd\n",
    "import os"
   ]
  },
  {
   "cell_type": "code",
   "execution_count": null,
   "metadata": {},
   "outputs": [],
   "source": []
  },
  {
   "cell_type": "code",
   "execution_count": 3,
   "metadata": {},
   "outputs": [],
   "source": [
    "def get_df_in_folder(base_path):\n",
    "    first_file = base_path + '/' + list(os.walk(base_path))[0][2][0]\n",
    "    df = pd.read_csv(first_file, header=2, engine='python', sep=';', skipfooter=2)\n",
    "\n",
    "\n",
    "    for file in list(os.walk(base_path))[0][2][1:]:\n",
    "        if file.endswith('.csv'):\n",
    "            df2 = pd.read_csv(base_path + '/' + file, header=2, engine='python', sep=';', skipfooter=2)\n",
    "\n",
    "            df = df.join(df2, how='right', rsuffix='_right')\n",
    "            for col in list(df):\n",
    "                if '_right' in col:\n",
    "                    del df[col]\n",
    "    return df"
   ]
  },
  {
   "cell_type": "code",
   "execution_count": 10,
   "metadata": {},
   "outputs": [],
   "source": [
    "for directory in list(os.walk('.'))[0][1][1:]:\n",
    "    df_bankruptcy = get_df_in_folder(directory)"
   ]
  },
  {
   "cell_type": "code",
   "execution_count": null,
   "metadata": {},
   "outputs": [],
   "source": []
  },
  {
   "cell_type": "code",
   "execution_count": null,
   "metadata": {},
   "outputs": [],
   "source": [
    "df_inacting = get_df_in_folder('.')"
   ]
  },
  {
   "cell_type": "code",
   "execution_count": null,
   "metadata": {},
   "outputs": [],
   "source": [
    "df_liquidation = get_df_in_folder('.')"
   ]
  },
  {
   "cell_type": "code",
   "execution_count": null,
   "metadata": {},
   "outputs": [],
   "source": []
  },
  {
   "cell_type": "markdown",
   "metadata": {},
   "source": [
    "##### Далее переводим данные в панельный вид"
   ]
  },
  {
   "cell_type": "code",
   "execution_count": null,
   "metadata": {},
   "outputs": [],
   "source": [
    "\n",
    "\n",
    "def get_panel_col_names(df):\n",
    "    panel_col_names, panel_col_names_full = {}, []\n",
    "    for col in list(df):\n",
    "        try:\n",
    "            if int(col.split(',')[0].split(' - ')[0]):\n",
    "                cur_col_name = ','.join(col.split(',')[1:]).lstrip()\n",
    "                panel_col_names[cur_col_name] = panel_col_names.get(cur_col_name, [])\n",
    "                panel_col_names[cur_col_name].append(col)\n",
    "                panel_col_names_full.append(col)\n",
    "        except ValueError:\n",
    "            pass\n",
    "    return panel_col_names, panel_col_names_full"
   ]
  },
  {
   "cell_type": "code",
   "execution_count": null,
   "metadata": {},
   "outputs": [],
   "source": [
    "panel_col_names, panel_col_names_full = get_panel_col_names(df)\n",
    "non_panel_col_names = [col for col in list(df) if col in (set(df) - set(panel_col_names_full))]"
   ]
  },
  {
   "cell_type": "code",
   "execution_count": null,
   "metadata": {},
   "outputs": [],
   "source": [
    "new_dict = {col: [] for col in ['index', 'year', 'month'] + non_panel_col_names + list(panel_col_names)}\n",
    "\n",
    "for index, company in enumerate(df['Наименование полное']):\n",
    "    if index % 10 == 0:\n",
    "        print(index)\n",
    "    for year in range(2013, 2019):\n",
    "        for month in range(1, 13):\n",
    "            new_dict['year'].append(year) \n",
    "            new_dict['index'].append(index)\n",
    "            new_dict['month'].append(month) \n",
    "            \n",
    "            for col in non_panel_col_names:\n",
    "                new_dict[col].append(list(df[(df['Наименование полное'] == company)][col])[0])\n",
    "\n",
    "            for col in panel_col_names.keys():\n",
    "                full_col_name = None\n",
    "                for c in panel_col_names[col]:\n",
    "                    if str(year) in c and str(month) in c:\n",
    "                        full_col_name = c\n",
    "                if full_col_name:\n",
    "                    new_dict[col].append(list(df[(df['Наименование полное'] == company)][full_col_name])[0])\n",
    "                else:\n",
    "                    print(year, col)"
   ]
  },
  {
   "cell_type": "code",
   "execution_count": null,
   "metadata": {},
   "outputs": [],
   "source": [
    "df_new = pd.DataFrame(new_dict)"
   ]
  },
  {
   "cell_type": "code",
   "execution_count": 3,
   "metadata": {},
   "outputs": [],
   "source": [
    "panel_acting = pd.read_csv('panel_acting.csv', sep=';', low_memory=False, index_col=0)\n",
    "panel_bankruptcy = pd.read_csv('panel_bankruptcy.csv', sep=';', low_memory=False, index_col=0)\n",
    "panel_liquidation = pd.read_csv('panel_liquidation.csv', sep=';', low_memory=False, index_col=0)\n",
    "panel_inacting = pd.read_csv('panel_inacting.csv', sep=';', low_memory=False, index_col=0)"
   ]
  },
  {
   "cell_type": "markdown",
   "metadata": {},
   "source": [
    "##### На следующем этапе нужно из 1010 недействующих банков оставить только те, которые обанкротились. "
   ]
  },
  {
   "cell_type": "code",
   "execution_count": null,
   "metadata": {},
   "outputs": [],
   "source": [
    "inacting_panel = inacting_panel[(inacting_panel['Важная информация'].notnull()) & (inacting_panel['Важная информация'].str.contains('вследствие банкротства '))]"
   ]
  },
  {
   "cell_type": "markdown",
   "metadata": {},
   "source": [
    "##### Для удобства скачивания файлов были включены частично 2012 и 2019 года. Но так как они не использовались для построения моделей, они были удалены."
   ]
  },
  {
   "cell_type": "code",
   "execution_count": 6,
   "metadata": {},
   "outputs": [],
   "source": [
    "panel = [panel_bankruptcy, panel_liquidation, panel_acting, panel_inacting]\n",
    "for df in panel:\n",
    "    df = df[df.columns.drop(list(df.filter(regex='2012')))]\n",
    "    df = df[df.columns.drop(list(df.filter(regex='2019')))]"
   ]
  },
  {
   "cell_type": "markdown",
   "metadata": {},
   "source": [
    "##### Для анализа удобно использовать индексацию банков. Так как на этапе работы с пропусками будут удалены некоторые строки, индексация проставляется заранее. "
   ]
  },
  {
   "cell_type": "code",
   "execution_count": 7,
   "metadata": {},
   "outputs": [],
   "source": [
    "index_for_liquidation = [(i//72+58) for i in range(panel_liquidation.shape[0])]\n",
    "index_for_acting = [(i//72+399) for i in range(panel_acting.shape[0])]\n",
    "index_for_inacting =  [(i//72+869) for i in range(panel_inacting.shape[0])]\n",
    "index_for_bankruptcy = [(i//72+1) for i in range(panel_bankruptcy.shape[0])] "
   ]
  },
  {
   "cell_type": "code",
   "execution_count": null,
   "metadata": {},
   "outputs": [],
   "source": [
    "# старое\n",
    "panel_bankruptcy['index'] = index_for_bankruptcy\n",
    "panel_bankruptcy = panel_bankruptcy[[\"index\"] + list(panel_bankruptcy)[:-1]]\n",
    "\n",
    "panel_liquidation['index'] = index_for_liquidation\n",
    "panel_liquidation = panel_liquidation[[\"index\"] + list(panel_liquidation)[:-1]]\n",
    "\n",
    "panel_acting['index'] = index_for_acting\n",
    "panel_acting = panel_acting[[\"index\"] + list(panel_acting)[:-1]]\n",
    "\n",
    "panel_inacting['index'] = index_for_inacting\n",
    "panel_inacting = panel_inacting[[\"index\"] + list(panel_inacting)[:-1]]\n",
    "\n",
    "#новое\n",
    "def index(df, index):\n",
    "    df = df[[\"index\"] + list(df)[:-1]]\n",
    "    \n",
    "    return df\n",
    "\n",
    "index(panel_bankruptcy, index_for_bankruptcy)\n",
    "index(panel_acting, index_for_acting)\n",
    "index(panel_inacting, index_for_inacting)\n",
    "index(panel_panel_liquidation, index_for_panel_liquidation)"
   ]
  },
  {
   "cell_type": "markdown",
   "metadata": {},
   "source": [
    "### Заполнение пропусков"
   ]
  },
  {
   "cell_type": "markdown",
   "metadata": {},
   "source": [
    "##### На первом этапе обработки пропусков нужно удалить те строки, когда банки не существовали, так как эти условия не учитываются в данных. "
   ]
  },
  {
   "cell_type": "code",
   "execution_count": 50,
   "metadata": {},
   "outputs": [],
   "source": [
    "#старое\n",
    "panel_liquidation['registration_year'] = panel_liquidation['Дата регистрации'].apply(lambda x: int(x.split('.')[2]))\n",
    "panel_liquidation = panel_liquidation[panel_liquidation['year'] >= panel_liquidation['registration_year']]\n",
    "del panel_liquidation['registration_year']   \n",
    "\n",
    "panel_bankruptcy['registration_year'] = panel_bankruptcy['Дата регистрации'].apply(lambda x: int(x.split('.')[2]))\n",
    "panel_bankruptcy = panel_bankruptcy[panel_bankruptcy['year'] >= panel_bankruptcy['registration_year']]\n",
    "del panel_bankruptcy['registration_year']   \n",
    "\n",
    "panel_acting['registration_year'] = panel_acting['Дата регистрации'].apply(lambda x: int(x.split('.')[2]))\n",
    "panel_acting = panel_acting[panel_acting['year'] >= panel_acting['registration_year']]\n",
    "del panel_acting['registration_year']   \n",
    "\n",
    "panel_inacting['registration_year'] = panel_inacting['Дата регистрации'].apply(lambda x: int(x.split('.')[2]))\n",
    "panel_inacting['liquidation_year'] = panel_inacting['Дата ликвидации'].apply(lambda x: int(x.split('.')[2]))\n",
    "panel_inacting = panel_inacting[(panel_inacting['liquidation_year'] >= panel_inacting['year']) & (panel_inacting['year'] >= panel_inacting['registration_year'])]\n",
    "del panel_inacting['registration_year']\n",
    "del panel_inacting['liquidation_year']\n",
    "#новое\n",
    "for df in panel:\n",
    "    if (df['Статус'] == 'Недействующая').all():\n",
    "        df['registration_year'] = df['Дата регистрации'].apply(lambda x: int(x.split('.')[2]))\n",
    "        df['liquidation_year'] = df['Дата ликвидации'].apply(lambda x: int(x.split('.')[2]))\n",
    "        df = df[(df['liquidation_year'] >= df['year']) & (df['year'] >= df['registration_year'])]\n",
    "        del df['liquidation_year']\n",
    "        del df['registration_year']\n",
    "    else:\n",
    "        df['registration_year'] = df['Дата регистрации'].apply(lambda x: int(x.split('.')[2]))\n",
    "        df = df[df['year'] >= df['registration_year']]\n",
    "        del df['registration_year']"
   ]
  },
  {
   "cell_type": "markdown",
   "metadata": {},
   "source": [
    "##### Далее нужно объеденить все файлы в один."
   ]
  },
  {
   "cell_type": "code",
   "execution_count": null,
   "metadata": {},
   "outputs": [],
   "source": [
    "df = pd.concat(panel)"
   ]
  },
  {
   "cell_type": "code",
   "execution_count": 18,
   "metadata": {},
   "outputs": [
    {
     "data": {
      "text/plain": [
       "False"
      ]
     },
     "execution_count": 18,
     "metadata": {},
     "output_type": "execute_result"
    }
   ],
   "source": [
    "panel_inacting['Дата ликвидации'] is True"
   ]
  },
  {
   "cell_type": "code",
   "execution_count": 21,
   "metadata": {},
   "outputs": [
    {
     "data": {
      "text/plain": [
       "True"
      ]
     },
     "execution_count": 21,
     "metadata": {},
     "output_type": "execute_result"
    }
   ],
   "source": [
    "'Дата ликвидации' in panel_acting.columns"
   ]
  },
  {
   "cell_type": "code",
   "execution_count": 48,
   "metadata": {},
   "outputs": [
    {
     "data": {
      "text/plain": [
       "False"
      ]
     },
     "execution_count": 48,
     "metadata": {},
     "output_type": "execute_result"
    }
   ],
   "source": [
    "(panel_acting['Статус'] == 'Недействующая').all()"
   ]
  },
  {
   "cell_type": "code",
   "execution_count": 46,
   "metadata": {},
   "outputs": [
    {
     "ename": "IndexError",
     "evalue": "list index out of range",
     "output_type": "error",
     "traceback": [
      "\u001b[1;31m---------------------------------------------------------------------------\u001b[0m",
      "\u001b[1;31mIndexError\u001b[0m                                Traceback (most recent call last)",
      "\u001b[1;32m<ipython-input-46-8bc71255a22e>\u001b[0m in \u001b[0;36m<module>\u001b[1;34m()\u001b[0m\n\u001b[1;32m----> 1\u001b[1;33m \u001b[0ma\u001b[0m\u001b[1;33m[\u001b[0m\u001b[1;36m1\u001b[0m\u001b[1;33m]\u001b[0m\u001b[1;33m\u001b[0m\u001b[0m\n\u001b[0m",
      "\u001b[1;31mIndexError\u001b[0m: list index out of range"
     ]
    }
   ],
   "source": []
  },
  {
   "cell_type": "code",
   "execution_count": null,
   "metadata": {},
   "outputs": [],
   "source": [
    "N = len(v)\n",
    "step=2\n",
    "for i in range(0, N):\n",
    "    if np.isnan(v.values[i]):# and not np.isnan(v.values[i - 1]):\n",
    "        start = -1\n",
    "        end = -1\n",
    "        for i1 in range(i-1, i-1-step,-1):\n",
    "             if not np.isnan(v.values[i1]) and df['index'].values[i]==df['index'].values[i1]:\n",
    "                    start = i1\n",
    "                    break   \n",
    "        for i1 in range(i+1, i+1+step, 1):\n",
    "             if not np.isnan(v.values[i1]) and df['index'].values[i]==df['index'].values[i1]:\n",
    "                    end = i1\n",
    "                    break\n",
    "        if (start !=-1) and (end !=-1) and (end - start <= step+1):\n",
    "            for i1 in range(start+1, end):\n",
    "                v.values[i1]=(v.values[end]-v.values[start])*(i1 - start)/(end-start) + v.values[start]\n",
    "            i = end + 1"
   ]
  }
 ],
 "metadata": {
  "kernelspec": {
   "display_name": "Python 3",
   "language": "python",
   "name": "python3"
  },
  "language_info": {
   "codemirror_mode": {
    "name": "ipython",
    "version": 3
   },
   "file_extension": ".py",
   "mimetype": "text/x-python",
   "name": "python",
   "nbconvert_exporter": "python",
   "pygments_lexer": "ipython3",
   "version": "3.6.5"
  }
 },
 "nbformat": 4,
 "nbformat_minor": 2
}
