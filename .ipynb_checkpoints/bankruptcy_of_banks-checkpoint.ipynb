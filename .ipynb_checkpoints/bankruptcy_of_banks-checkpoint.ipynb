{
 "cells": [
  {
   "cell_type": "markdown",
   "metadata": {},
   "source": [
    "# Сбор и обработка данных"
   ]
  },
  {
   "cell_type": "markdown",
   "metadata": {},
   "source": [
    "### Приведение данных к панельному виду"
   ]
  },
  {
   "cell_type": "markdown",
   "metadata": {},
   "source": [
    "#### В этой работе рассмотрены данные по российским банкам с информационной базы СПАРК. Для построения модели, использовались месячные данные с 2013-2018 гг. Данные включают 470 действующих банков и 57 – в состоянии банкротства.Также, в базе есть 1010 недействующих банков, из которых было отобраны банки, которые ликвидировались по причине банкротства (81 банк)."
   ]
  },
  {
   "cell_type": "markdown",
   "metadata": {},
   "source": [
    "##### Спарк накладывает ограничения на размер скачеваемых файлов. Поэтому данные были скачены частями, а далее объединялись в один файл. "
   ]
  },
  {
   "cell_type": "code",
   "execution_count": 2,
   "metadata": {},
   "outputs": [],
   "source": [
    "import pandas as pd\n",
    "import os"
   ]
  },
  {
   "cell_type": "code",
   "execution_count": null,
   "metadata": {},
   "outputs": [],
   "source": []
  },
  {
   "cell_type": "code",
   "execution_count": 3,
   "metadata": {},
   "outputs": [],
   "source": [
    "def get_df_in_folder(base_path):\n",
    "    first_file = base_path + '/' + list(os.walk(base_path))[0][2][0]\n",
    "    df = pd.read_csv(first_file, header=2, engine='python', sep=';', skipfooter=2)\n",
    "\n",
    "\n",
    "    for file in list(os.walk(base_path))[0][2][1:]:\n",
    "        if file.endswith('.csv'):\n",
    "            df2 = pd.read_csv(base_path + '/' + file, header=2, engine='python', sep=';', skipfooter=2)\n",
    "\n",
    "            df = df.join(df2, how='right', rsuffix='_right')\n",
    "            for col in list(df):\n",
    "                if '_right' in col:\n",
    "                    del df[col]\n",
    "    return df"
   ]
  },
  {
   "cell_type": "code",
   "execution_count": 10,
   "metadata": {},
   "outputs": [],
   "source": [
    "for directory in list(os.walk('.'))[0][1][1:]:\n",
    "    df_bankruptcy = get_df_in_folder(directory)"
   ]
  },
  {
   "cell_type": "code",
   "execution_count": null,
   "metadata": {},
   "outputs": [],
   "source": []
  },
  {
   "cell_type": "code",
   "execution_count": null,
   "metadata": {},
   "outputs": [],
   "source": [
    "df_inacting = get_df_in_folder('.')"
   ]
  },
  {
   "cell_type": "code",
   "execution_count": null,
   "metadata": {},
   "outputs": [],
   "source": [
    "df_liquidation = get_df_in_folder('.')"
   ]
  },
  {
   "cell_type": "code",
   "execution_count": null,
   "metadata": {},
   "outputs": [],
   "source": []
  },
  {
   "cell_type": "markdown",
   "metadata": {},
   "source": [
    "##### Далее переводим данные в панельный вид"
   ]
  },
  {
   "cell_type": "code",
   "execution_count": null,
   "metadata": {},
   "outputs": [],
   "source": [
    "\n",
    "\n",
    "def get_panel_col_names(df):\n",
    "    panel_col_names, panel_col_names_full = {}, []\n",
    "    for col in list(df):\n",
    "        try:\n",
    "            if int(col.split(',')[0].split(' - ')[0]):\n",
    "                cur_col_name = ','.join(col.split(',')[1:]).lstrip()\n",
    "                panel_col_names[cur_col_name] = panel_col_names.get(cur_col_name, [])\n",
    "                panel_col_names[cur_col_name].append(col)\n",
    "                panel_col_names_full.append(col)\n",
    "        except ValueError:\n",
    "            pass\n",
    "    return panel_col_names, panel_col_names_full"
   ]
  },
  {
   "cell_type": "code",
   "execution_count": null,
   "metadata": {},
   "outputs": [],
   "source": [
    "panel_col_names, panel_col_names_full = get_panel_col_names(df)\n",
    "non_panel_col_names = [col for col in list(df) if col in (set(df) - set(panel_col_names_full))]"
   ]
  },
  {
   "cell_type": "code",
   "execution_count": null,
   "metadata": {},
   "outputs": [],
   "source": [
    "new_dict = {col: [] for col in ['index', 'year', 'month'] + non_panel_col_names + list(panel_col_names)}\n",
    "\n",
    "for index, company in enumerate(df['Наименование полное']):\n",
    "    if index % 10 == 0:\n",
    "        print(index)\n",
    "    for year in range(2013, 2019):\n",
    "        for month in range(1, 13):\n",
    "            new_dict['year'].append(year) \n",
    "            new_dict['index'].append(index)\n",
    "            new_dict['month'].append(month) \n",
    "            \n",
    "            for col in non_panel_col_names:\n",
    "                new_dict[col].append(list(df[(df['Наименование полное'] == company)][col])[0])\n",
    "\n",
    "            for col in panel_col_names.keys():\n",
    "                full_col_name = None\n",
    "                for c in panel_col_names[col]:\n",
    "                    if str(year) in c and str(month) in c:\n",
    "                        full_col_name = c\n",
    "                if full_col_name:\n",
    "                    new_dict[col].append(list(df[(df['Наименование полное'] == company)][full_col_name])[0])\n",
    "                else:\n",
    "                    print(year, col)"
   ]
  },
  {
   "cell_type": "code",
   "execution_count": null,
   "metadata": {},
   "outputs": [],
   "source": [
    "df_new = pd.DataFrame(new_dict)"
   ]
  },
  {
   "cell_type": "code",
   "execution_count": null,
   "metadata": {},
   "outputs": [],
   "source": []
  },
  {
   "cell_type": "markdown",
   "metadata": {},
   "source": [
    "##### На следующем этапе нужно из 1010 недействующих банков оставить только те, которые обанкротились. "
   ]
  },
  {
   "cell_type": "code",
   "execution_count": null,
   "metadata": {},
   "outputs": [],
   "source": [
    "inacting_panel = inacting_panel[(inacting_panel['Важная информация'].notnull()) & (inacting_panel['Важная информация'].str.contains('вследствие банкротства '))]"
   ]
  },
  {
   "cell_type": "markdown",
   "metadata": {},
   "source": [
    "##### Для удобства скачивания файлов были включены частично 2012 и 2019 года. Но так как они не использовались для построения моделей, они были удалены."
   ]
  },
  {
   "cell_type": "code",
   "execution_count": null,
   "metadata": {},
   "outputs": [],
   "source": [
    "panel = [bankruptcy_panel, liquidation_panel, acting_panel, inacting_panel]\n",
    "for df in panel:\n",
    "    df = df[df.columns.drop(list(df.filter(regex='2012')))]\n",
    "    df = df[df.columns.drop(list(df.filter(regex='2019')))]"
   ]
  },
  {
   "cell_type": "markdown",
   "metadata": {},
   "source": [
    "##### Для анализа удобно использовать индексацию банков. Так как на этапе работы с пропусками будут удалены некоторые строки, индексация проставляется заранее. "
   ]
  },
  {
   "cell_type": "code",
   "execution_count": null,
   "metadata": {},
   "outputs": [],
   "source": [
    "bankruptcy_panel['index'] = [(i//72+1) for i in range (bankruptcy_panel.shape[0])]\n",
    "liquidation_panel['index'] = [(i//72+58) for i in range (liquidation_panel.shape[0])]\n",
    "acting_panel['index'] = [(i//72+399) for i in range (acting_panel.shape[0])]\n",
    "inacting_panel['index'] = [(i//72+869) for i in range (inacting_panel.shape[0])]"
   ]
  },
  {
   "cell_type": "code",
   "execution_count": null,
   "metadata": {},
   "outputs": [],
   "source": [
    "bankruptcy_panel = bankruptcy_panel[[\"index\"] + list(bankruptcy_panel)[:-1]]\n",
    "liquidation_panel = liquidation_panel[[\"index\"] + list(liquidation_panel)[:-1]]\n",
    "acting_panel = acting_panel[[\"index\"] + list(acting_panel)[:-1]]\n",
    "inacting_panel = inacting_panel[[\"index\"] + list(inacting_panel)[:-1]]"
   ]
  },
  {
   "cell_type": "markdown",
   "metadata": {},
   "source": [
    "### Заполнение пропусков"
   ]
  },
  {
   "cell_type": "markdown",
   "metadata": {},
   "source": [
    "##### На первом этапе обработки пропусков нужно удалить те строки, когда банки не существовали, так как эти условия не учитываются в данных. "
   ]
  },
  {
   "cell_type": "code",
   "execution_count": null,
   "metadata": {},
   "outputs": [],
   "source": [
    "for df in panel:\n",
    "    if df['Дата ликвидации']:\n",
    "        df['registration_year'] = df['Дата регистрации'].apply(lambda x: int(x.split('.')[2]))\n",
    "        df['liquidation_year'] = df['Дата ликвидации'].apply(lambda x: int(x.split('.')[2]))\n",
    "        df = df[(inacting_panel['liquidation_year'] >= df['year']) & (df['year'] >= df['registration_year'])]\n",
    "        del df['liquidation_year']\n",
    "        del df['registration_year']\n",
    "    else:\n",
    "        df['registration_year'] = df['Дата регистрации'].apply(lambda x: int(x.split('.')[2]))\n",
    "        df = df[df['year'] >= df['registration_year']]\n",
    "        del df['registration_year']"
   ]
  },
  {
   "cell_type": "markdown",
   "metadata": {},
   "source": [
    "##### Далее нужно объеденить все файлы в один."
   ]
  },
  {
   "cell_type": "code",
   "execution_count": null,
   "metadata": {},
   "outputs": [],
   "source": [
    "df = pd.concat(panel)"
   ]
  },
  {
   "cell_type": "code",
   "execution_count": null,
   "metadata": {},
   "outputs": [],
   "source": []
  },
  {
   "cell_type": "code",
   "execution_count": null,
   "metadata": {},
   "outputs": [],
   "source": []
  }
 ],
 "metadata": {
  "kernelspec": {
   "display_name": "Python 3",
   "language": "python",
   "name": "python3"
  },
  "language_info": {
   "codemirror_mode": {
    "name": "ipython",
    "version": 3
   },
   "file_extension": ".py",
   "mimetype": "text/x-python",
   "name": "python",
   "nbconvert_exporter": "python",
   "pygments_lexer": "ipython3",
   "version": "3.6.5"
  }
 },
 "nbformat": 4,
 "nbformat_minor": 2
}
