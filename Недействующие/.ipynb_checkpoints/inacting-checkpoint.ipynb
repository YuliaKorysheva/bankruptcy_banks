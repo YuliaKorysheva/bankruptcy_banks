{
 "cells": [
  {
   "cell_type": "code",
   "execution_count": 1,
   "metadata": {},
   "outputs": [],
   "source": [
    "import pandas as pd\n",
    "import os"
   ]
  },
  {
   "cell_type": "code",
   "execution_count": 2,
   "metadata": {},
   "outputs": [],
   "source": [
    "df = pd.read_csv('1_признаки(2012).csv', header=2, engine='python', sep=';')"
   ]
  },
  {
   "cell_type": "code",
   "execution_count": 3,
   "metadata": {},
   "outputs": [],
   "source": [
    "def get_df_in_folder(base_path):\n",
    "    first_file = base_path + '/' + list(os.walk(base_path))[0][2][0]\n",
    "    df = pd.read_csv(first_file, header=2, engine='python', sep=';', skipfooter=2)\n",
    "\n",
    "\n",
    "    for file in list(os.walk(base_path))[0][2][1:]:\n",
    "        if file.endswith('.csv'):\n",
    "            df2 = pd.read_csv(base_path + '/' + file, header=2, engine='python', sep=';', skipfooter=2)\n",
    "\n",
    "            df = df.join(df2, how='right', rsuffix='_right')\n",
    "            for col in list(df):\n",
    "                if '_right' in col:\n",
    "                    del df[col]\n",
    "    return df"
   ]
  },
  {
   "cell_type": "code",
   "execution_count": 4,
   "metadata": {},
   "outputs": [],
   "source": [
    "df = get_df_in_folder('.')"
   ]
  },
  {
   "cell_type": "code",
   "execution_count": 5,
   "metadata": {},
   "outputs": [],
   "source": [
    "df.to_csv('inacting.csv', sep=';')"
   ]
  },
  {
   "cell_type": "code",
   "execution_count": null,
   "metadata": {},
   "outputs": [],
   "source": []
  }
 ],
 "metadata": {
  "kernelspec": {
   "display_name": "Python 3",
   "language": "python",
   "name": "python3"
  },
  "language_info": {
   "codemirror_mode": {
    "name": "ipython",
    "version": 3
   },
   "file_extension": ".py",
   "mimetype": "text/x-python",
   "name": "python",
   "nbconvert_exporter": "python",
   "pygments_lexer": "ipython3",
   "version": "3.6.5"
  }
 },
 "nbformat": 4,
 "nbformat_minor": 2
}
